{
 "cells": [
  {
   "cell_type": "code",
   "execution_count": 106,
   "metadata": {
    "collapsed": false
   },
   "outputs": [
    {
     "ename": "TypeError",
     "evalue": "'tuple' object cannot be interpreted as an integer",
     "output_type": "error",
     "traceback": [
      "\u001b[1;31m---------------------------------------------------------------------------\u001b[0m",
      "\u001b[1;31mTypeError\u001b[0m                                 Traceback (most recent call last)",
      "\u001b[1;32m<ipython-input-106-576acb8b6eb5>\u001b[0m in \u001b[0;36m<module>\u001b[1;34m()\u001b[0m\n\u001b[0;32m     24\u001b[0m \u001b[0mVz\u001b[0m \u001b[1;33m=\u001b[0m \u001b[1;33m[\u001b[0m\u001b[1;33m]\u001b[0m\u001b[1;33m\u001b[0m\u001b[0m\n\u001b[0;32m     25\u001b[0m \u001b[1;33m\u001b[0m\u001b[0m\n\u001b[1;32m---> 26\u001b[1;33m \u001b[1;32mfor\u001b[0m \u001b[0mi\u001b[0m \u001b[1;32min\u001b[0m \u001b[0mrange\u001b[0m\u001b[1;33m(\u001b[0m\u001b[1;36m0\u001b[0m\u001b[1;33m,\u001b[0m\u001b[0mN_halo\u001b[0m\u001b[1;33m)\u001b[0m\u001b[1;33m:\u001b[0m\u001b[1;33m\u001b[0m\u001b[0m\n\u001b[0m\u001b[0;32m     27\u001b[0m     \u001b[0mv_halo\u001b[0m \u001b[1;33m=\u001b[0m \u001b[1;33m(\u001b[0m\u001b[0mmath\u001b[0m\u001b[1;33m.\u001b[0m\u001b[0msqrt\u001b[0m\u001b[1;33m(\u001b[0m\u001b[1;33m(\u001b[0m\u001b[0mVx\u001b[0m\u001b[1;33m[\u001b[0m\u001b[0mi\u001b[0m\u001b[1;33m]\u001b[0m\u001b[1;33m**\u001b[0m\u001b[1;36m2\u001b[0m\u001b[1;33m)\u001b[0m \u001b[1;33m+\u001b[0m \u001b[1;33m(\u001b[0m\u001b[0mVy\u001b[0m\u001b[1;33m[\u001b[0m\u001b[0mi\u001b[0m\u001b[1;33m]\u001b[0m\u001b[1;33m**\u001b[0m\u001b[1;36m2\u001b[0m\u001b[1;33m)\u001b[0m \u001b[1;33m+\u001b[0m \u001b[1;33m(\u001b[0m\u001b[0mVz\u001b[0m\u001b[1;33m[\u001b[0m\u001b[0mi\u001b[0m\u001b[1;33m]\u001b[0m\u001b[1;33m**\u001b[0m\u001b[1;36m2\u001b[0m\u001b[1;33m)\u001b[0m\u001b[1;33m)\u001b[0m\u001b[1;33m)\u001b[0m\u001b[1;33m\u001b[0m\u001b[0m\n\u001b[0;32m     28\u001b[0m \u001b[1;33m\u001b[0m\u001b[0m\n",
      "\u001b[1;31mTypeError\u001b[0m: 'tuple' object cannot be interpreted as an integer"
     ]
    }
   ],
   "source": [
    "#Christian Morrison\n",
    "#100560493\n",
    "\n",
    "import numpy as npy\n",
    "import matplotlib.pyplot as plot\n",
    "import matplotlib.mlab as mat\n",
    "import struct\n",
    "from scipy import stats\n",
    "\n",
    "with open(\"../../Large_Data/halo.dat\", mode='rb') as file:\n",
    "    fileContent = file.read()\n",
    "    \n",
    "    N_halo=struct.unpack(\"i\", fileContent[:4]) #Number of bodies\n",
    "    T_halo=struct.unpack(\"d\", fileContent[4:12]) #Time of \"snapshot\"\n",
    "    \n",
    "    data_halo=npy.zeros((N_halo[0]*7),int)\n",
    "for x in range(0,len(data_halo)):\n",
    "        data_halo[x]= struct.unpack(\"i\",fileContent[(x*4)+12: (x*4)+16])[0]\n",
    "\n",
    "              \n",
    "v_halo = [npy.zeros(N_halo)]\n",
    "Vx = []\n",
    "Vy = []\n",
    "Vz = []\n",
    "    \n",
    "for i in range(0,N_halo):\n",
    "    v_halo = (math.sqrt((Vx[i]**2) + (Vy[i]**2) + (Vz[i]**2)))       \n",
    "        \n",
    "n, bins, patches = plot.hist(v_halo, 50, normed=1, facecolor='green', alpha=.75)\n",
    "bins = 0.5*(bins[1:] + bins[:-1])\n",
    "        \n",
    "plot.title(\"Velocity histogram (halo)-100560493\")\n",
    "plot.xlabel(\"Speed (m/s)\")\n",
    "plot.ylabel(\"Probability\")\n",
    "plot.axis([0,75,0,.15])\n",
    "plot.show()\n",
    "    \n",
    "print(N_halo)\n",
    "print(T_halo)\n",
    "print(data_halo)"
   ]
  },
  {
   "cell_type": "code",
   "execution_count": 105,
   "metadata": {
    "collapsed": false
   },
   "outputs": [
    {
     "ename": "TypeError",
     "evalue": "'tuple' object cannot be interpreted as an integer",
     "output_type": "error",
     "traceback": [
      "\u001b[1;31m---------------------------------------------------------------------------\u001b[0m",
      "\u001b[1;31mTypeError\u001b[0m                                 Traceback (most recent call last)",
      "\u001b[1;32m<ipython-input-105-2cc6a8932296>\u001b[0m in \u001b[0;36m<module>\u001b[1;34m()\u001b[0m\n\u001b[0;32m     14\u001b[0m \u001b[0mVz\u001b[0m \u001b[1;33m=\u001b[0m \u001b[1;33m[\u001b[0m\u001b[1;33m]\u001b[0m\u001b[1;33m\u001b[0m\u001b[0m\n\u001b[0;32m     15\u001b[0m \u001b[1;33m\u001b[0m\u001b[0m\n\u001b[1;32m---> 16\u001b[1;33m \u001b[1;32mfor\u001b[0m \u001b[0mi\u001b[0m \u001b[1;32min\u001b[0m \u001b[0mrange\u001b[0m\u001b[1;33m(\u001b[0m\u001b[1;36m0\u001b[0m\u001b[1;33m,\u001b[0m\u001b[0mN_010\u001b[0m\u001b[1;33m)\u001b[0m\u001b[1;33m:\u001b[0m\u001b[1;33m\u001b[0m\u001b[0m\n\u001b[0m\u001b[0;32m     17\u001b[0m     \u001b[0mv_010\u001b[0m \u001b[1;33m=\u001b[0m \u001b[1;33m(\u001b[0m\u001b[0mmath\u001b[0m\u001b[1;33m.\u001b[0m\u001b[0msqrt\u001b[0m\u001b[1;33m(\u001b[0m\u001b[1;33m(\u001b[0m\u001b[0mVx\u001b[0m\u001b[1;33m[\u001b[0m\u001b[0mi\u001b[0m\u001b[1;33m]\u001b[0m\u001b[1;33m**\u001b[0m\u001b[1;36m2\u001b[0m\u001b[1;33m)\u001b[0m \u001b[1;33m+\u001b[0m \u001b[1;33m(\u001b[0m\u001b[0mVy\u001b[0m\u001b[1;33m[\u001b[0m\u001b[0mi\u001b[0m\u001b[1;33m]\u001b[0m\u001b[1;33m**\u001b[0m\u001b[1;36m2\u001b[0m\u001b[1;33m)\u001b[0m \u001b[1;33m+\u001b[0m \u001b[1;33m(\u001b[0m\u001b[0mVz\u001b[0m\u001b[1;33m[\u001b[0m\u001b[0mi\u001b[0m\u001b[1;33m]\u001b[0m\u001b[1;33m**\u001b[0m\u001b[1;36m2\u001b[0m\u001b[1;33m)\u001b[0m\u001b[1;33m)\u001b[0m\u001b[1;33m)\u001b[0m\u001b[1;33m\u001b[0m\u001b[0m\n\u001b[0;32m     18\u001b[0m \u001b[1;33m\u001b[0m\u001b[0m\n",
      "\u001b[1;31mTypeError\u001b[0m: 'tuple' object cannot be interpreted as an integer"
     ]
    }
   ],
   "source": [
    "with open(\"../../Large_Data/snapshot_010.dat\", mode='rb') as file:\n",
    "    fileContent = file.read()\n",
    "    \n",
    "    N_010=struct.unpack(\"i\", fileContent[:4]) #Number of bodies\n",
    "    T_010=struct.unpack(\"d\", fileContent[4:12]) #Time of \"snapshot\"\n",
    "    \n",
    "    data_010=npy.zeros((N_halo[0]*7),int)\n",
    "for x in range(0,len(data_010)):\n",
    "        data_010[x]= struct.unpack(\"i\",fileContent[(x*4)+12: (x*4)+16])[0]\n",
    "              \n",
    "v_010 = [npy.zeros(N_010)]\n",
    "Vx = []\n",
    "Vy = []\n",
    "Vz = []\n",
    "    \n",
    "for i in range(0,N_010):\n",
    "    v_010 = (math.sqrt((Vx[i]**2) + (Vy[i]**2) + (Vz[i]**2)))       \n",
    "        \n",
    "n, bins, patches = plot.hist(v_halo, 50, normed=1, facecolor='green', alpha=.75)\n",
    "bins = 0.5*(bins[1:] + bins[:-1])\n",
    "        \n",
    "plot.title(\"Velocity histogram (010)-100560493\")\n",
    "plot.xlabel(\"Speed (m/s)\")\n",
    "plot.ylabel(\"Probability\")\n",
    "plot.axis([0,75,0,.15])\n",
    "plot.show()"
   ]
  },
  {
   "cell_type": "code",
   "execution_count": null,
   "metadata": {
    "collapsed": true
   },
   "outputs": [],
   "source": []
  }
 ],
 "metadata": {
  "kernelspec": {
   "display_name": "Python 3",
   "language": "python",
   "name": "python3"
  },
  "language_info": {
   "codemirror_mode": {
    "name": "ipython",
    "version": 3
   },
   "file_extension": ".py",
   "mimetype": "text/x-python",
   "name": "python",
   "nbconvert_exporter": "python",
   "pygments_lexer": "ipython3",
   "version": "3.4.3"
  }
 },
 "nbformat": 4,
 "nbformat_minor": 0
}
