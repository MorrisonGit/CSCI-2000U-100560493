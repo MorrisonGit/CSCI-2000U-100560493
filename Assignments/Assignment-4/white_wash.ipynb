{
 "cells": [
  {
   "cell_type": "code",
   "execution_count": 21,
   "metadata": {
    "collapsed": false
   },
   "outputs": [
    {
     "name": "stdout",
     "output_type": "stream",
     "text": [
      "[[ 0.8   0.95  0.6 ]\n",
      " [ 0.75  0.85  0.7 ]\n",
      " [ 0.5   1.    0.75]]\n"
     ]
    }
   ],
   "source": [
    "#Christian Morrison\n",
    "#100560493\n",
    "\n",
    "import numpy as npy\n",
    "\n",
    "#Unsure if I am to make my own input(below) or use a command to accept one\n",
    "\n",
    "inputarray = npy.array([[0.6, 0.9, 0.2], [0.5, 0.7, 0.4], [0, 1, 0.5]])\n",
    "\n",
    "def white_wash(Map):\n",
    "    \n",
    "    ColorMap = Map.flatten()   #Flatten for numpy\n",
    "    \n",
    "    ColorMapOne = npy.zeros_like(ColorMap)   #Make map of 1s\n",
    "    ColorMapOne.fill(1)\n",
    "    \n",
    "    ColorMapHalf = npy.zeros_like(ColorMap)  #Make map of 0.5s\n",
    "    ColorMapHalf.fill(0.5)\n",
    "    \n",
    "    #ColorMapOne = inputarray = npy.array([[1, 1, 1], [1, 1, 1], [1, 1, 1]])\n",
    "    \n",
    "    ColorMap = ColorMap + ColorMapOne #Get each value + 1\n",
    "    \n",
    "    #ColorMapHalf = inputarray = npy.array([[0.5, 0.5, 0.5], [0.5, 0.5, 0.5], [0.5, 0.5, 0.5]])\n",
    "    \n",
    "    ColorMap = ColorMap * ColorMapHalf #Get the average between each value and 1.\n",
    "    \n",
    "    ColorMap=ColorMap.reshape(ColorMap.size/3.0 , 3)\n",
    "    \n",
    "    return(ColorMap)\n",
    "\n",
    "print(white_wash(inputarray))"
   ]
  },
  {
   "cell_type": "code",
   "execution_count": null,
   "metadata": {
    "collapsed": true
   },
   "outputs": [],
   "source": []
  }
 ],
 "metadata": {
  "kernelspec": {
   "display_name": "Python 3",
   "language": "python",
   "name": "python3"
  },
  "language_info": {
   "codemirror_mode": {
    "name": "ipython",
    "version": 3
   },
   "file_extension": ".py",
   "mimetype": "text/x-python",
   "name": "python",
   "nbconvert_exporter": "python",
   "pygments_lexer": "ipython3",
   "version": "3.4.3"
  }
 },
 "nbformat": 4,
 "nbformat_minor": 0
}
