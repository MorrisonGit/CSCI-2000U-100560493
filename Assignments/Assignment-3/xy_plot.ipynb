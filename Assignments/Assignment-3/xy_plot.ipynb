{
 "cells": [
  {
   "cell_type": "code",
   "execution_count": 67,
   "metadata": {
    "collapsed": false
   },
   "outputs": [],
   "source": [
    "import matplotlib.pyplot as plot\n",
    "import numpy\n",
    "\n",
    "#Opening .dat file\n",
    "xy_values = open(\"xy_points.dat\")\n",
    "\n",
    "#Creating Arrays\n",
    "x_values = []\n",
    "y_values = []\n",
    "\n",
    "\n",
    "#Putting Values in Arrays\n",
    "for value in xy_values.readline().split(' '):\n",
    "    x_values.append(float(value))\n",
    "    \n",
    "for value in xy_values.readline().split(' '):\n",
    "    y_values.append(float(value))\n",
    "    \n",
    "#Setting up x and y for equations using numpy\n",
    "x = numpy.array(x_values)\n",
    "y = numpy.array(y_values)\n",
    "#xy = np.array([x,y],dtype = float)\n",
    "plot.scatter(x, y, c='Red') #Using c instead of color makes it darker for some reason\n",
    "\n",
    "#Unable to do logical indexing\n",
    "bx1 = x[x<-2]\n",
    "by1 = y[x<-2]\n",
    "bx2 = bx1[(by1<=0) & (by1>= -5)]\n",
    "by2 = by1[(by1<=0) & (by1>= -5)]\n",
    "plot.scatter(bx2, by2, color='Blue')\n",
    "\n",
    "#Again, unable to do logical indexing  #<=5 is for radius of 5 from (0,5)\n",
    "x_circle = x[(((x-0)**2 + (y-5)**2)**0.5) <=5]\n",
    "y_circle = y[(((x-0)**2 + (y-5)**2)**0.5) <=5]\n",
    "plot.scatter(x_circle, y_circle, color='Green')\n",
    "\n",
    "\n",
    "#Setting Limits and Title\n",
    "plot.xlim(-10, 10)\n",
    "plot.ylim(-10, 10)\n",
    "plot.title(\"Hilighted points (100560493)\")\n",
    "\n",
    "plot.show()"
   ]
  },
  {
   "cell_type": "code",
   "execution_count": null,
   "metadata": {
    "collapsed": true
   },
   "outputs": [],
   "source": []
  },
  {
   "cell_type": "code",
   "execution_count": null,
   "metadata": {
    "collapsed": true
   },
   "outputs": [],
   "source": []
  }
 ],
 "metadata": {
  "kernelspec": {
   "display_name": "Python 3",
   "language": "python",
   "name": "python3"
  },
  "language_info": {
   "codemirror_mode": {
    "name": "ipython",
    "version": 3
   },
   "file_extension": ".py",
   "mimetype": "text/x-python",
   "name": "python",
   "nbconvert_exporter": "python",
   "pygments_lexer": "ipython3",
   "version": "3.4.3"
  }
 },
 "nbformat": 4,
 "nbformat_minor": 0
}
