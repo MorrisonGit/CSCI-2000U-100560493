{
 "cells": [
  {
   "cell_type": "code",
   "execution_count": 19,
   "metadata": {
    "collapsed": false
   },
   "outputs": [],
   "source": [
    "import matplotlib.pyplot as plot #I'm sorry if this chart is supposed to look pretty\n",
    "\n",
    "chart = plot.figure()\n",
    "countries = 'USA', 'CHN', 'GBR', 'RUS', 'KOR', 'GER', 'FRA', 'ITA', 'HUN', 'AUS', 'OTHER'\n",
    "medals = [46, 38, 29, 24, 13, 11, 11, 8, 8, 7, 107]\n",
    "colours = ['blue', 'darkred', 'red', 'yellow', 'lightskyblue', \n",
    "         'grey', 'darkslateblue', 'green', 'brown', 'white', 'darkorange']\n",
    "plot.title('2012 Olympic Gold Medals (100560493)')\n",
    "plot.pie(medals, labels=countries, colors=colours)\n",
    "plot.show()"
   ]
  },
  {
   "cell_type": "code",
   "execution_count": null,
   "metadata": {
    "collapsed": true
   },
   "outputs": [],
   "source": []
  }
 ],
 "metadata": {
  "kernelspec": {
   "display_name": "Python 3",
   "language": "python",
   "name": "python3"
  },
  "language_info": {
   "codemirror_mode": {
    "name": "ipython",
    "version": 3
   },
   "file_extension": ".py",
   "mimetype": "text/x-python",
   "name": "python",
   "nbconvert_exporter": "python",
   "pygments_lexer": "ipython3",
   "version": "3.4.3"
  }
 },
 "nbformat": 4,
 "nbformat_minor": 0
}
