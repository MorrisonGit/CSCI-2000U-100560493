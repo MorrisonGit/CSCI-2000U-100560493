{
 "cells": [
  {
   "cell_type": "code",
   "execution_count": 70,
   "metadata": {
    "collapsed": false
   },
   "outputs": [
    {
     "name": "stdout",
     "output_type": "stream",
     "text": [
      "When n =     10, rho_n = 3.04183961893\n",
      "When n =     10, tau_n = 3.04936163598\n",
      "When n =     10,  mu_n = 3.14138462247\n",
      "When n =    100, rho_n = 3.13159290356\n",
      "When n =    100, tau_n = 3.13207653181\n",
      "When n =    100,  mu_n = 3.14159241531\n",
      "When n =   1000, rho_n = 3.14059265384\n",
      "When n =   1000, tau_n = 3.14063805621\n",
      "When n =   1000,  mu_n = 3.14159265335\n",
      "When n =  10000, rho_n = 3.14149265359\n",
      "When n =  10000, tau_n = 3.14149716395\n",
      "When n =  10000,  mu_n = 3.14159265359\n",
      "When n = 100000, rho_n = 3.14158265359\n",
      "When n = 100000, tau_n = 3.14158310433\n",
      "When n = 100000,  mu_n = 3.14159265359\n"
     ]
    }
   ],
   "source": [
    "def rho_n(r):\n",
    "    num = 0\n",
    "    for f in range(1, r+1): #Below ** replaces numpy usefuleness\n",
    "        num = num + (((-1)**(f+1))/ ((2*f)-1)) #Had some bracketing issues\n",
    "    return (num * 4)\n",
    "\n",
    "def tau_n(t):\n",
    "    num = 0\n",
    "    for s in range(1, t+1):\n",
    "        num = num + ( 1/ (s*s) ) #Kept getting extremely high numbers\n",
    "    num = num * 6                #Had the *6 line under the loop\n",
    "    return (num ** 0.5)\n",
    "       \n",
    "def mu_n(m):\n",
    "    num = 0\n",
    "    for t in range(1, m+1):\n",
    "        num =  (num + (1/(t**4)))\n",
    "    num = num*90\n",
    "    return (num **(0.25))\n",
    "\n",
    "\n",
    "print('When n =     10, rho_n = ''{:.11f}'.format(rho_n(10)))\n",
    "print('When n =     10, tau_n = ''{:.11f}'.format(tau_n(10)))\n",
    "print('When n =     10,  mu_n = ''{:.11f}'.format(mu_n(10)))\n",
    "print('When n =    100, rho_n = ''{:.11f}'.format(rho_n(100)))\n",
    "print('When n =    100, tau_n = ''{:.11f}'.format(tau_n(100)))\n",
    "print('When n =    100,  mu_n = ''{:.11f}'.format(mu_n(100)))\n",
    "print('When n =   1000, rho_n = ''{:.11f}'.format(rho_n(1000)))\n",
    "print('When n =   1000, tau_n = ''{:.11f}'.format(tau_n(1000)))\n",
    "print('When n =   1000,  mu_n = ''{:.11f}'.format(mu_n(1000)))\n",
    "print('When n =  10000, rho_n = ''{:.11f}'.format(rho_n(10000)))\n",
    "print('When n =  10000, tau_n = ''{:.11f}'.format(tau_n(10000)))\n",
    "print('When n =  10000,  mu_n = ''{:.11f}'.format(mu_n(10000)))\n",
    "print('When n = 100000, rho_n = ''{:.11f}'.format(rho_n(100000)))\n",
    "print('When n = 100000, tau_n = ''{:.11f}'.format(tau_n(100000)))\n",
    "print('When n = 100000,  mu_n = ''{:.11f}'.format(mu_n(100000)))"
   ]
  },
  {
   "cell_type": "code",
   "execution_count": null,
   "metadata": {
    "collapsed": true
   },
   "outputs": [],
   "source": []
  }
 ],
 "metadata": {
  "kernelspec": {
   "display_name": "Python 3",
   "language": "python",
   "name": "python3"
  },
  "language_info": {
   "codemirror_mode": {
    "name": "ipython",
    "version": 3
   },
   "file_extension": ".py",
   "mimetype": "text/x-python",
   "name": "python",
   "nbconvert_exporter": "python",
   "pygments_lexer": "ipython3",
   "version": "3.4.3"
  }
 },
 "nbformat": 4,
 "nbformat_minor": 0
}
