{
 "cells": [
  {
   "cell_type": "code",
   "execution_count": 93,
   "metadata": {
    "collapsed": false
   },
   "outputs": [],
   "source": [
    "import matplotlib.pyplot as plot\n",
    "\n",
    "#Create arrays for each city\n",
    "Toronto = []\n",
    "Vancouver = []\n",
    "Montreal = [] #Eww\n",
    "\n",
    "#Setting up X-Axis\n",
    "month_integers=[0,1,2,3,4,5,6,7,8,9,10,11]\n",
    "months=['JAN', 'FEB', 'MAR', 'APR', 'MAY', 'JUN', 'JUL', \n",
    "        'AUG', 'SEP', 'OCT', 'NOV', 'DEC']\n",
    "\n",
    "#Retreive temperatures from files and place them within the arrays from the first step\n",
    "#Needed guide to do this part\n",
    "with open('toronto_temperature_2012.dat') as temperatures:\n",
    "    for number in temperatures:\n",
    "        Toronto.append(float(number))\n",
    "with open('vancouver_temperature_2012.dat') as temperatures:\n",
    "    for number in temperatures:\n",
    "        Vancouver.append(float(number))\n",
    "with open('montreal_temperature_2012.dat') as temperatures:\n",
    "    for number in temperatures:\n",
    "        Montreal.append(float(number))\n",
    "\n",
    "#Plotting the lines\n",
    "plot.plot(month_integers, Toronto, color ='green')\n",
    "plot.plot(month_integers, Vancouver, color ='orange')\n",
    "plot.plot(month_integers, Montreal, color ='purple')\n",
    "\n",
    "#Setting up the legend\n",
    "plot.legend((greenline, orangeline, purpleline), ('Toronto', 'Vancouver', 'Montreal'), loc='best')\n",
    "\n",
    "#Setting up the Title\n",
    "plot.title('{2012 Average Monthly Temperatures (100560493)}')\n",
    "\n",
    "#Labbeling and Seeting up the outer perimeters of the graph\n",
    "plot.axis([1, 11, -10, 30])\n",
    "plot.xticks(x,months,rotation='horizontal',fontsize=12)\n",
    "plot.xlabel('Months', fontsize=12)\n",
    "plot.ylabel('Temperature',fontsize=12)\n",
    "\n",
    "#Well, you know, actually showing the newly made plot. Kind of important.\n",
    "plot.show()"
   ]
  },
  {
   "cell_type": "code",
   "execution_count": null,
   "metadata": {
    "collapsed": true
   },
   "outputs": [],
   "source": []
  }
 ],
 "metadata": {
  "kernelspec": {
   "display_name": "Python 3",
   "language": "python",
   "name": "python3"
  },
  "language_info": {
   "codemirror_mode": {
    "name": "ipython",
    "version": 3
   },
   "file_extension": ".py",
   "mimetype": "text/x-python",
   "name": "python",
   "nbconvert_exporter": "python",
   "pygments_lexer": "ipython3",
   "version": "3.4.3"
  }
 },
 "nbformat": 4,
 "nbformat_minor": 0
}
